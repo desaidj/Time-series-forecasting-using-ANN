{
  "nbformat": 4,
  "nbformat_minor": 0,
  "metadata": {
    "colab": {
      "name": "ANN_SCE.ipynb",
      "provenance": [],
      "toc_visible": true
    },
    "kernelspec": {
      "name": "python387jvsc74a57bd05d97ad4eda96f4e0dcd5ae4f97368654619500468c6147550d2a1b2a1881f9a5",
      "display_name": "Python 3.8.7 64-bit"
    },
    "language_info": {
      "name": "python",
      "version": "3.8.7"
    },
    "metadata": {
      "interpreter": {
        "hash": "5d97ad4eda96f4e0dcd5ae4f97368654619500468c6147550d2a1b2a1881f9a5"
      }
    }
  },
  "cells": [
    {
      "cell_type": "code",
      "metadata": {
        "id": "fyXz_wMyfRHc"
      },
      "source": [
        "import pandas as pd\n",
        "import numpy as np\n",
        "from keras.models import Sequential\n",
        "from keras.layers import Dense\n",
        "from keras.callbacks import ModelCheckpoint, EarlyStopping\n",
        "%matplotlib inline\n",
        "from matplotlib import pyplot as plt\n",
        "import seaborn as sns"
      ],
      "execution_count": null,
      "outputs": []
    },
    {
      "cell_type": "code",
      "metadata": {
        "id": "NZiQnUpSfS72"
      },
      "source": [
        "df = pd.read_csv('C:/Users/Dell/Downloads/ANN_DATA.csv')\n",
        "df.set_index('Date', inplace=True)"
      ],
      "execution_count": null,
      "outputs": []
    },
    {
      "cell_type": "code",
      "metadata": {
        "colab": {
          "base_uri": "https://localhost:8080/",
          "height": 235
        },
        "id": "3OAoE48Ii9GG",
        "outputId": "d83ccb04-ae3b-4f0c-8599-24111f44c3a0"
      },
      "source": [
        "df.head()"
      ],
      "execution_count": null,
      "outputs": []
    },
    {
      "cell_type": "markdown",
      "metadata": {
        "id": "TGm97v7BfpVR"
      },
      "source": [
        "##Data Preprocessing "
      ]
    },
    {
      "cell_type": "code",
      "metadata": {
        "colab": {
          "base_uri": "https://localhost:8080/"
        },
        "id": "Jhg1LAWFi40k",
        "outputId": "8a027caf-3e87-4b1b-e015-21f9d17853a5"
      },
      "source": [
        "len(df.values)"
      ],
      "execution_count": null,
      "outputs": []
    },
    {
      "cell_type": "code",
      "metadata": {
        "id": "xWQdcTpofgo5"
      },
      "source": [
        "def convert2matrix(data_arr, look_back):\n",
        " X, Y =[], []\n",
        " for i in range(len(data_arr)-look_back):\n",
        "  d=i+look_back  \n",
        "  X.append(data_arr[i:d,0])\n",
        "  Y.append(data_arr[d,0])\n",
        " return np.array(X), np.array(Y)\n",
        "\n",
        "train_size = 100\n",
        "train, test =df.values[0:train_size,:],df.values[train_size:len(df.values),:]\n",
        "look_back = 7# setup look_back window \n",
        "\n",
        "#converting dataset into right shape in order to input into the DNN\n",
        "trainX, trainY = convert2matrix(train, look_back)\n",
        "testX, testY = convert2matrix(test, look_back)"
      ],
      "execution_count": null,
      "outputs": []
    },
    {
      "cell_type": "code",
      "metadata": {
        "id": "zV4vqo-qfjq-"
      },
      "source": [
        "print(trainX.shape, trainY.shape)\n",
        "print(testX.shape, testY.shape)"
      ],
      "execution_count": null,
      "outputs": []
    },
    {
      "cell_type": "markdown",
      "metadata": {
        "id": "DECtjMhNfzBt"
      },
      "source": [
        "##  Define neural network shape and compile model"
      ]
    },
    {
      "cell_type": "code",
      "metadata": {
        "id": "rkmIR2sZfzsv"
      },
      "source": [
        "\n",
        "def model_dnn(look_back):\n",
        "    model=Sequential()\n",
        "    model.add(Dense(units=32, input_dim=look_back, activation='relu'))\n",
        "    model.add(Dense(21, activation='relu'))\n",
        "    model.add(Dense(1))\n",
        "    model.compile(loss='mean_squared_error',  optimizer='adam',metrics = ['mse', 'mae'])\n",
        "    return model"
      ],
      "execution_count": null,
      "outputs": []
    },
    {
      "cell_type": "code",
      "metadata": {
        "colab": {
          "base_uri": "https://localhost:8080/"
        },
        "id": "iO6_u6sagFxO",
        "outputId": "2b53bccf-a7f4-499e-cf76-7352bc7d1c4d"
      },
      "source": [
        "model=model_dnn(look_back)\n",
        "history=model.fit(trainX,trainY, \n",
        "                  epochs=100, batch_size=35, verbose=1, \n",
        "                  validation_data=(testX,testY),\n",
        "                  callbacks=[EarlyStopping(monitor='val_loss', patience=10)],\n",
        "                  shuffle=False)"
      ],
      "execution_count": null,
      "outputs": []
    },
    {
      "cell_type": "code",
      "metadata": {
        "id": "ybpwaQljgLHK"
      },
      "source": [
        " def model_loss(history):\n",
        "    plt.figure(figsize=(8,4))\n",
        "    plt.plot(history.history['loss'], label='Train Loss')\n",
        "    plt.plot(history.history['val_loss'], label='Test Loss')\n",
        "    plt.title('model loss')\n",
        "    plt.ylabel('loss')\n",
        "    plt.xlabel('epochs')\n",
        "    plt.legend(loc='upper right')\n",
        "    plt.show();"
      ],
      "execution_count": null,
      "outputs": []
    },
    {
      "cell_type": "code",
      "metadata": {
        "colab": {
          "base_uri": "https://localhost:8080/",
          "height": 329
        },
        "id": "Yq55yaVKgdfv",
        "outputId": "708ea68a-932a-4662-c98f-df70777d3cdb"
      },
      "source": [
        "train_score = model.evaluate(trainX, trainY, verbose=0)\n",
        "print('Train Root Mean Squared Error(RMSE): %.2f; Train Mean Absolute Error(MAE) : %.2f ' \n",
        "% (np.sqrt(train_score[1]), train_score[2]))\n",
        "test_score = model.evaluate(testX, testY, verbose=0)\n",
        "print('Test Root Mean Squared Error(RMSE): %.2f; Test Mean Absolute Error(MAE) : %.2f ' \n",
        "% (np.sqrt(test_score[1]), test_score[2]))\n",
        "model_loss(history)"
      ],
      "execution_count": null,
      "outputs": []
    },
    {
      "cell_type": "code",
      "metadata": {
        "id": "dnfS2XtVgjnJ"
      },
      "source": [
        "def prediction_plot(testY, test_predict):\n",
        "  len_prediction=[x for x in range(len(testY))]\n",
        "  plt.figure(figsize=(8,4))\n",
        "  plt.plot(len_prediction, testY, marker='.', label=\"actual\")\n",
        "  plt.plot(len_prediction, test_predict, 'r', label=\"prediction\")\n",
        "  plt.tight_layout()\n",
        "  sns.despine(top=True)\n",
        "  plt.subplots_adjust(left=0.07)\n",
        "  plt.ylabel('Temp', size=15)\n",
        "  plt.xlabel('Time step', size=15)\n",
        "  plt.legend(fontsize=15)\n",
        "  plt.show();"
      ],
      "execution_count": null,
      "outputs": []
    },
    {
      "cell_type": "code",
      "metadata": {
        "colab": {
          "base_uri": "https://localhost:8080/",
          "height": 316
        },
        "id": "RpV-_iP2lEbd",
        "outputId": "4b9c52d1-2fc3-4276-fc81-c74420d405fb"
      },
      "source": [
        "train_predict = model.predict(trainX)\n",
        "prediction_plot(trainY, train_predict)"
      ],
      "execution_count": null,
      "outputs": []
    },
    {
      "cell_type": "code",
      "metadata": {
        "id": "FV1AzLLflHv9",
        "colab": {
          "base_uri": "https://localhost:8080/",
          "height": 419
        },
        "outputId": "4546f37d-13f7-48ec-f4fa-3025dd2e3063"
      },
      "source": [
        "Temp = pd.DataFrame(columns=['actual','predicted'])\n",
        "Temp['actual'] = list(trainY.reshape(93,))\n",
        "Temp['predicted'] = list(train_predict.reshape(93,))"
      ],
      "execution_count": null,
      "outputs": []
    },
    {
      "cell_type": "code",
      "metadata": {
        "id": "05JWgbiB53KC"
      },
      "source": [
        "Temp.to_csv('Final_predicted.csv')"
      ],
      "execution_count": null,
      "outputs": []
    },
    {
      "cell_type": "code",
      "metadata": {
        "colab": {
          "base_uri": "https://localhost:8080/",
          "height": 296
        },
        "id": "RLSH933Lel7J",
        "outputId": "f4c338dd-b022-46e2-a24c-f0f3b54547fe"
      },
      "source": [
        "plt.plot(Temp['actual'], Temp['predicted'], 'o', color='black');\n",
        "plt.xlabel('Actual')\n",
        "plt.ylabel('predicted')"
      ],
      "execution_count": null,
      "outputs": []
    },
    {
      "cell_type": "code",
      "metadata": {
        "id": "W8zhjy5sg_qN"
      },
      "source": [],
      "execution_count": null,
      "outputs": []
    },
    {
      "cell_type": "code",
      "execution_count": null,
      "metadata": {},
      "outputs": [],
      "source": []
    }
  ]
}